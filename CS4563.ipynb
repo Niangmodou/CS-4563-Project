{
  "nbformat": 4,
  "nbformat_minor": 0,
  "metadata": {
    "colab": {
      "name": "CS4563.ipynb",
      "provenance": [],
      "toc_visible": true
    },
    "kernelspec": {
      "name": "python3",
      "display_name": "Python 3"
    },
    "language_info": {
      "name": "python"
    }
  },
  "cells": [
    {
      "cell_type": "code",
      "metadata": {
        "id": "Q--9i3VP2q_-"
      },
      "source": [
        "import pandas as pd\n",
        "import numpy as np\n",
        "from sklearn.preprocessing import LabelEncoder"
      ],
      "execution_count": 1,
      "outputs": []
    },
    {
      "cell_type": "markdown",
      "metadata": {
        "id": "e99rAJaM3e3j"
      },
      "source": [
        "## Reading the Data "
      ]
    },
    {
      "cell_type": "code",
      "metadata": {
        "colab": {
          "base_uri": "https://localhost:8080/",
          "height": 204
        },
        "id": "AB2-bymX3ki8",
        "outputId": "67cb2ea9-9994-4903-80a0-00b27be5a154"
      },
      "source": [
        "df = pd.read_csv('StockX-ML-Data.csv')\n",
        "\n",
        "df.head()"
      ],
      "execution_count": 2,
      "outputs": [
        {
          "output_type": "execute_result",
          "data": {
            "text/html": [
              "<div>\n",
              "<style scoped>\n",
              "    .dataframe tbody tr th:only-of-type {\n",
              "        vertical-align: middle;\n",
              "    }\n",
              "\n",
              "    .dataframe tbody tr th {\n",
              "        vertical-align: top;\n",
              "    }\n",
              "\n",
              "    .dataframe thead th {\n",
              "        text-align: right;\n",
              "    }\n",
              "</style>\n",
              "<table border=\"1\" class=\"dataframe\">\n",
              "  <thead>\n",
              "    <tr style=\"text-align: right;\">\n",
              "      <th></th>\n",
              "      <th>Order Date</th>\n",
              "      <th>Brand</th>\n",
              "      <th>Sneaker Name</th>\n",
              "      <th>Sale Price</th>\n",
              "      <th>Retail Price</th>\n",
              "      <th>Release Date</th>\n",
              "      <th>Shoe Size</th>\n",
              "      <th>Buyer Region</th>\n",
              "      <th>Percent Change</th>\n",
              "      <th>Days Since Release</th>\n",
              "      <th>Original Release</th>\n",
              "    </tr>\n",
              "  </thead>\n",
              "  <tbody>\n",
              "    <tr>\n",
              "      <th>0</th>\n",
              "      <td>9/1/17</td>\n",
              "      <td>Yeezy</td>\n",
              "      <td>Adidas-Yeezy-Boost-350-Low-V2-Beluga</td>\n",
              "      <td>1097</td>\n",
              "      <td>220</td>\n",
              "      <td>9/24/16</td>\n",
              "      <td>11.0</td>\n",
              "      <td>California</td>\n",
              "      <td>398.636364</td>\n",
              "      <td>1665</td>\n",
              "      <td>0</td>\n",
              "    </tr>\n",
              "    <tr>\n",
              "      <th>1</th>\n",
              "      <td>9/1/17</td>\n",
              "      <td>Yeezy</td>\n",
              "      <td>Adidas-Yeezy-Boost-350-V2-Core-Black-Copper</td>\n",
              "      <td>685</td>\n",
              "      <td>220</td>\n",
              "      <td>11/23/16</td>\n",
              "      <td>11.0</td>\n",
              "      <td>California</td>\n",
              "      <td>211.363636</td>\n",
              "      <td>1605</td>\n",
              "      <td>0</td>\n",
              "    </tr>\n",
              "    <tr>\n",
              "      <th>2</th>\n",
              "      <td>9/1/17</td>\n",
              "      <td>Yeezy</td>\n",
              "      <td>Adidas-Yeezy-Boost-350-V2-Core-Black-Green</td>\n",
              "      <td>690</td>\n",
              "      <td>220</td>\n",
              "      <td>11/23/16</td>\n",
              "      <td>11.0</td>\n",
              "      <td>California</td>\n",
              "      <td>213.636364</td>\n",
              "      <td>1605</td>\n",
              "      <td>0</td>\n",
              "    </tr>\n",
              "    <tr>\n",
              "      <th>3</th>\n",
              "      <td>9/1/17</td>\n",
              "      <td>Yeezy</td>\n",
              "      <td>Adidas-Yeezy-Boost-350-V2-Core-Black-Red</td>\n",
              "      <td>1075</td>\n",
              "      <td>220</td>\n",
              "      <td>11/23/16</td>\n",
              "      <td>11.5</td>\n",
              "      <td>Kentucky</td>\n",
              "      <td>388.636364</td>\n",
              "      <td>1605</td>\n",
              "      <td>0</td>\n",
              "    </tr>\n",
              "    <tr>\n",
              "      <th>4</th>\n",
              "      <td>9/1/17</td>\n",
              "      <td>Yeezy</td>\n",
              "      <td>Adidas-Yeezy-Boost-350-V2-Core-Black-Red-2017</td>\n",
              "      <td>828</td>\n",
              "      <td>220</td>\n",
              "      <td>2/11/17</td>\n",
              "      <td>11.0</td>\n",
              "      <td>Rhode Island</td>\n",
              "      <td>276.363636</td>\n",
              "      <td>1525</td>\n",
              "      <td>0</td>\n",
              "    </tr>\n",
              "  </tbody>\n",
              "</table>\n",
              "</div>"
            ],
            "text/plain": [
              "  Order Date   Brand  ... Days Since Release  Original Release\n",
              "0     9/1/17   Yeezy  ...               1665                 0\n",
              "1     9/1/17   Yeezy  ...               1605                 0\n",
              "2     9/1/17   Yeezy  ...               1605                 0\n",
              "3     9/1/17   Yeezy  ...               1605                 0\n",
              "4     9/1/17   Yeezy  ...               1525                 0\n",
              "\n",
              "[5 rows x 11 columns]"
            ]
          },
          "metadata": {
            "tags": []
          },
          "execution_count": 2
        }
      ]
    },
    {
      "cell_type": "markdown",
      "metadata": {
        "id": "uTTs0mg53XSk"
      },
      "source": [
        "## Cleaning the Data"
      ]
    },
    {
      "cell_type": "code",
      "metadata": {
        "colab": {
          "base_uri": "https://localhost:8080/",
          "height": 204
        },
        "id": "UMfJgGZz3USe",
        "outputId": "13c87256-71ba-4d50-b7b7-eb56d08cee99"
      },
      "source": [
        "# Label encoding the states to have values from 0 - 49\n",
        "# Instatniate LabelEncoder\n",
        "label_encoder = LabelEncoder()\n",
        "\n",
        "# LabelEncode Book_Tablecolumn of df\n",
        "df['Buyer Region'] = label_encoder.fit_transform(df['Buyer Region'])\n",
        "\n",
        "# Inspecting encoded df\n",
        "df.head()"
      ],
      "execution_count": 14,
      "outputs": [
        {
          "output_type": "execute_result",
          "data": {
            "text/html": [
              "<div>\n",
              "<style scoped>\n",
              "    .dataframe tbody tr th:only-of-type {\n",
              "        vertical-align: middle;\n",
              "    }\n",
              "\n",
              "    .dataframe tbody tr th {\n",
              "        vertical-align: top;\n",
              "    }\n",
              "\n",
              "    .dataframe thead th {\n",
              "        text-align: right;\n",
              "    }\n",
              "</style>\n",
              "<table border=\"1\" class=\"dataframe\">\n",
              "  <thead>\n",
              "    <tr style=\"text-align: right;\">\n",
              "      <th></th>\n",
              "      <th>Order Date</th>\n",
              "      <th>Brand</th>\n",
              "      <th>Sneaker Name</th>\n",
              "      <th>Sale Price</th>\n",
              "      <th>Retail Price</th>\n",
              "      <th>Release Date</th>\n",
              "      <th>Shoe Size</th>\n",
              "      <th>Buyer Region</th>\n",
              "      <th>Percent Change</th>\n",
              "      <th>Days Since Release</th>\n",
              "      <th>Original Release</th>\n",
              "    </tr>\n",
              "  </thead>\n",
              "  <tbody>\n",
              "    <tr>\n",
              "      <th>0</th>\n",
              "      <td>9/1/17</td>\n",
              "      <td>Yeezy</td>\n",
              "      <td>Adidas-Yeezy-Boost-350-Low-V2-Beluga</td>\n",
              "      <td>1097</td>\n",
              "      <td>220</td>\n",
              "      <td>9/24/16</td>\n",
              "      <td>11.0</td>\n",
              "      <td>4</td>\n",
              "      <td>398.636364</td>\n",
              "      <td>1665</td>\n",
              "      <td>0</td>\n",
              "    </tr>\n",
              "    <tr>\n",
              "      <th>1</th>\n",
              "      <td>9/1/17</td>\n",
              "      <td>Yeezy</td>\n",
              "      <td>Adidas-Yeezy-Boost-350-V2-Core-Black-Copper</td>\n",
              "      <td>685</td>\n",
              "      <td>220</td>\n",
              "      <td>11/23/16</td>\n",
              "      <td>11.0</td>\n",
              "      <td>4</td>\n",
              "      <td>211.363636</td>\n",
              "      <td>1605</td>\n",
              "      <td>0</td>\n",
              "    </tr>\n",
              "    <tr>\n",
              "      <th>2</th>\n",
              "      <td>9/1/17</td>\n",
              "      <td>Yeezy</td>\n",
              "      <td>Adidas-Yeezy-Boost-350-V2-Core-Black-Green</td>\n",
              "      <td>690</td>\n",
              "      <td>220</td>\n",
              "      <td>11/23/16</td>\n",
              "      <td>11.0</td>\n",
              "      <td>4</td>\n",
              "      <td>213.636364</td>\n",
              "      <td>1605</td>\n",
              "      <td>0</td>\n",
              "    </tr>\n",
              "    <tr>\n",
              "      <th>3</th>\n",
              "      <td>9/1/17</td>\n",
              "      <td>Yeezy</td>\n",
              "      <td>Adidas-Yeezy-Boost-350-V2-Core-Black-Red</td>\n",
              "      <td>1075</td>\n",
              "      <td>220</td>\n",
              "      <td>11/23/16</td>\n",
              "      <td>11.5</td>\n",
              "      <td>17</td>\n",
              "      <td>388.636364</td>\n",
              "      <td>1605</td>\n",
              "      <td>0</td>\n",
              "    </tr>\n",
              "    <tr>\n",
              "      <th>4</th>\n",
              "      <td>9/1/17</td>\n",
              "      <td>Yeezy</td>\n",
              "      <td>Adidas-Yeezy-Boost-350-V2-Core-Black-Red-2017</td>\n",
              "      <td>828</td>\n",
              "      <td>220</td>\n",
              "      <td>2/11/17</td>\n",
              "      <td>11.0</td>\n",
              "      <td>39</td>\n",
              "      <td>276.363636</td>\n",
              "      <td>1525</td>\n",
              "      <td>0</td>\n",
              "    </tr>\n",
              "  </tbody>\n",
              "</table>\n",
              "</div>"
            ],
            "text/plain": [
              "  Order Date   Brand  ... Days Since Release  Original Release\n",
              "0     9/1/17   Yeezy  ...               1665                 0\n",
              "1     9/1/17   Yeezy  ...               1605                 0\n",
              "2     9/1/17   Yeezy  ...               1605                 0\n",
              "3     9/1/17   Yeezy  ...               1605                 0\n",
              "4     9/1/17   Yeezy  ...               1525                 0\n",
              "\n",
              "[5 rows x 11 columns]"
            ]
          },
          "metadata": {
            "tags": []
          },
          "execution_count": 14
        }
      ]
    },
    {
      "cell_type": "code",
      "metadata": {
        "id": "I-eSecnS4LAP"
      },
      "source": [
        ""
      ],
      "execution_count": null,
      "outputs": []
    }
  ]
}