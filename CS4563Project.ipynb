{
  "nbformat": 4,
  "nbformat_minor": 0,
  "metadata": {
    "colab": {
      "name": "CS4563Project.ipynb",
      "provenance": [],
      "toc_visible": true
    },
    "kernelspec": {
      "name": "python3",
      "display_name": "Python 2.7.16 64-bit",
      "metadata": {
        "interpreter": {
          "hash": "545e036c4b32438aced1f6b3c8d38ca151d9c36189e05839cb0aa568fda70ddd"
        }
      }
    },
    "language_info": {
      "name": "python",
      "version": "2.7.16"
    }
  },
  "cells": [
    {
      "cell_type": "code",
      "metadata": {
        "id": "Q--9i3VP2q_-"
      },
      "source": [
        "import pandas as pd\n",
        "import datetime\n",
        "import numpy as np\n",
        "from sklearn.preprocessing import LabelEncoder"
      ],
      "execution_count": 46,
      "outputs": []
    },
    {
      "cell_type": "markdown",
      "metadata": {
        "id": "e99rAJaM3e3j"
      },
      "source": [
        "## Reading the Data "
      ]
    },
    {
      "cell_type": "code",
      "metadata": {
        "colab": {
          "base_uri": "https://localhost:8080/",
          "height": 204
        },
        "id": "AB2-bymX3ki8",
        "outputId": "67cb2ea9-9994-4903-80a0-00b27be5a154"
      },
      "source": [
        "df = pd.read_csv('StockX-ML-Data.csv', parse_dates=True)\n",
        "\n",
        "df.head()"
      ],
      "execution_count": 47,
      "outputs": [
        {
          "output_type": "execute_result",
          "data": {
            "text/html": "<div>\n<style scoped>\n    .dataframe tbody tr th:only-of-type {\n        vertical-align: middle;\n    }\n\n    .dataframe tbody tr th {\n        vertical-align: top;\n    }\n\n    .dataframe thead th {\n        text-align: right;\n    }\n</style>\n<table border=\"1\" class=\"dataframe\">\n  <thead>\n    <tr style=\"text-align: right;\">\n      <th></th>\n      <th>Order Date</th>\n      <th>Brand</th>\n      <th>Sneaker Name</th>\n      <th>Sale Price</th>\n      <th>Retail Price</th>\n      <th>Release Date</th>\n      <th>Shoe Size</th>\n      <th>Buyer Region</th>\n      <th>Percent Change</th>\n      <th>Days Since Release</th>\n      <th>Original Release</th>\n    </tr>\n  </thead>\n  <tbody>\n    <tr>\n      <th>0</th>\n      <td>9/1/17</td>\n      <td>Yeezy</td>\n      <td>Adidas-Yeezy-Boost-350-Low-V2-Beluga</td>\n      <td>1097</td>\n      <td>220</td>\n      <td>9/24/16</td>\n      <td>11.0</td>\n      <td>California</td>\n      <td>398.636364</td>\n      <td>1665</td>\n      <td>0</td>\n    </tr>\n    <tr>\n      <th>1</th>\n      <td>9/1/17</td>\n      <td>Yeezy</td>\n      <td>Adidas-Yeezy-Boost-350-V2-Core-Black-Copper</td>\n      <td>685</td>\n      <td>220</td>\n      <td>11/23/16</td>\n      <td>11.0</td>\n      <td>California</td>\n      <td>211.363636</td>\n      <td>1605</td>\n      <td>0</td>\n    </tr>\n    <tr>\n      <th>2</th>\n      <td>9/1/17</td>\n      <td>Yeezy</td>\n      <td>Adidas-Yeezy-Boost-350-V2-Core-Black-Green</td>\n      <td>690</td>\n      <td>220</td>\n      <td>11/23/16</td>\n      <td>11.0</td>\n      <td>California</td>\n      <td>213.636364</td>\n      <td>1605</td>\n      <td>0</td>\n    </tr>\n    <tr>\n      <th>3</th>\n      <td>9/1/17</td>\n      <td>Yeezy</td>\n      <td>Adidas-Yeezy-Boost-350-V2-Core-Black-Red</td>\n      <td>1075</td>\n      <td>220</td>\n      <td>11/23/16</td>\n      <td>11.5</td>\n      <td>Kentucky</td>\n      <td>388.636364</td>\n      <td>1605</td>\n      <td>0</td>\n    </tr>\n    <tr>\n      <th>4</th>\n      <td>9/1/17</td>\n      <td>Yeezy</td>\n      <td>Adidas-Yeezy-Boost-350-V2-Core-Black-Red-2017</td>\n      <td>828</td>\n      <td>220</td>\n      <td>2/11/17</td>\n      <td>11.0</td>\n      <td>Rhode Island</td>\n      <td>276.363636</td>\n      <td>1525</td>\n      <td>0</td>\n    </tr>\n  </tbody>\n</table>\n</div>",
            "text/plain": [
              "  Order Date   Brand                                   Sneaker Name  \\\n",
              "0     9/1/17   Yeezy           Adidas-Yeezy-Boost-350-Low-V2-Beluga   \n",
              "1     9/1/17   Yeezy    Adidas-Yeezy-Boost-350-V2-Core-Black-Copper   \n",
              "2     9/1/17   Yeezy     Adidas-Yeezy-Boost-350-V2-Core-Black-Green   \n",
              "3     9/1/17   Yeezy       Adidas-Yeezy-Boost-350-V2-Core-Black-Red   \n",
              "4     9/1/17   Yeezy  Adidas-Yeezy-Boost-350-V2-Core-Black-Red-2017   \n",
              "\n",
              "   Sale Price  Retail Price Release Date  Shoe Size  Buyer Region  \\\n",
              "0        1097           220      9/24/16       11.0    California   \n",
              "1         685           220     11/23/16       11.0    California   \n",
              "2         690           220     11/23/16       11.0    California   \n",
              "3        1075           220     11/23/16       11.5      Kentucky   \n",
              "4         828           220      2/11/17       11.0  Rhode Island   \n",
              "\n",
              "   Percent Change  Days Since Release  Original Release  \n",
              "0      398.636364                1665                 0  \n",
              "1      211.363636                1605                 0  \n",
              "2      213.636364                1605                 0  \n",
              "3      388.636364                1605                 0  \n",
              "4      276.363636                1525                 0  "
            ]
          },
          "metadata": {},
          "execution_count": 47
        }
      ]
    },
    {
      "cell_type": "markdown",
      "metadata": {
        "id": "uTTs0mg53XSk"
      },
      "source": [
        "## Data Preprocessing"
      ]
    },
    {
      "cell_type": "code",
      "metadata": {
        "colab": {
          "base_uri": "https://localhost:8080/",
          "height": 204
        },
        "id": "UMfJgGZz3USe",
        "outputId": "42286c29-fc1c-4212-e9b2-9faa10003ad3"
      },
      "source": [
        "# Label encoding the states to have values from 0 - 49\n",
        "# Instatniate LabelEncoder\n",
        "label_encoder = LabelEncoder()\n",
        "\n",
        "# LabelEncode\n",
        "df['Buyer Region'] = label_encoder.fit_transform(df['Buyer Region']) # CA, NY, etc.\n",
        "df['Color'] = label_encoder.fit_transform(df['Sneaker Name']) # Colorway\n",
        "df['Brand'] = label_encoder.fit_transform(df['Brand']) # Yeezy, Nike\n"
      ],
      "execution_count": 59,
      "outputs": []
    },
    {
      "cell_type": "code",
      "execution_count": 60,
      "metadata": {},
      "outputs": [
        {
          "output_type": "execute_result",
          "data": {
            "text/html": "<div>\n<style scoped>\n    .dataframe tbody tr th:only-of-type {\n        vertical-align: middle;\n    }\n\n    .dataframe tbody tr th {\n        vertical-align: top;\n    }\n\n    .dataframe thead th {\n        text-align: right;\n    }\n</style>\n<table border=\"1\" class=\"dataframe\">\n  <thead>\n    <tr style=\"text-align: right;\">\n      <th></th>\n      <th>Order Date</th>\n      <th>Brand</th>\n      <th>Sneaker Name</th>\n      <th>Sale Price</th>\n      <th>Retail Price</th>\n      <th>Release Date</th>\n      <th>Shoe Size</th>\n      <th>Buyer Region</th>\n      <th>Percent Change</th>\n      <th>Days Since Release</th>\n      <th>Original Release</th>\n      <th>Color</th>\n      <th>Month</th>\n      <th>Year</th>\n    </tr>\n  </thead>\n  <tbody>\n    <tr>\n      <th>0</th>\n      <td>2017-09-01</td>\n      <td>0</td>\n      <td>Adidas-Yeezy-Boost-350-Low-V2-Beluga</td>\n      <td>1097</td>\n      <td>220</td>\n      <td>9/24/16</td>\n      <td>11.0</td>\n      <td>4</td>\n      <td>398.636364</td>\n      <td>1665</td>\n      <td>0</td>\n      <td>5</td>\n      <td>9</td>\n      <td>2017</td>\n    </tr>\n    <tr>\n      <th>1</th>\n      <td>2017-09-01</td>\n      <td>0</td>\n      <td>Adidas-Yeezy-Boost-350-V2-Core-Black-Copper</td>\n      <td>685</td>\n      <td>220</td>\n      <td>11/23/16</td>\n      <td>11.0</td>\n      <td>4</td>\n      <td>211.363636</td>\n      <td>1605</td>\n      <td>0</td>\n      <td>8</td>\n      <td>9</td>\n      <td>2017</td>\n    </tr>\n    <tr>\n      <th>2</th>\n      <td>2017-09-01</td>\n      <td>0</td>\n      <td>Adidas-Yeezy-Boost-350-V2-Core-Black-Green</td>\n      <td>690</td>\n      <td>220</td>\n      <td>11/23/16</td>\n      <td>11.0</td>\n      <td>4</td>\n      <td>213.636364</td>\n      <td>1605</td>\n      <td>0</td>\n      <td>9</td>\n      <td>9</td>\n      <td>2017</td>\n    </tr>\n    <tr>\n      <th>3</th>\n      <td>2017-09-01</td>\n      <td>0</td>\n      <td>Adidas-Yeezy-Boost-350-V2-Core-Black-Red</td>\n      <td>1075</td>\n      <td>220</td>\n      <td>11/23/16</td>\n      <td>11.5</td>\n      <td>17</td>\n      <td>388.636364</td>\n      <td>1605</td>\n      <td>0</td>\n      <td>10</td>\n      <td>9</td>\n      <td>2017</td>\n    </tr>\n    <tr>\n      <th>4</th>\n      <td>2017-09-01</td>\n      <td>0</td>\n      <td>Adidas-Yeezy-Boost-350-V2-Core-Black-Red-2017</td>\n      <td>828</td>\n      <td>220</td>\n      <td>2/11/17</td>\n      <td>11.0</td>\n      <td>39</td>\n      <td>276.363636</td>\n      <td>1525</td>\n      <td>0</td>\n      <td>11</td>\n      <td>9</td>\n      <td>2017</td>\n    </tr>\n  </tbody>\n</table>\n</div>",
            "text/plain": [
              "  Order Date  Brand                                   Sneaker Name  \\\n",
              "0 2017-09-01      0           Adidas-Yeezy-Boost-350-Low-V2-Beluga   \n",
              "1 2017-09-01      0    Adidas-Yeezy-Boost-350-V2-Core-Black-Copper   \n",
              "2 2017-09-01      0     Adidas-Yeezy-Boost-350-V2-Core-Black-Green   \n",
              "3 2017-09-01      0       Adidas-Yeezy-Boost-350-V2-Core-Black-Red   \n",
              "4 2017-09-01      0  Adidas-Yeezy-Boost-350-V2-Core-Black-Red-2017   \n",
              "\n",
              "   Sale Price  Retail Price Release Date  Shoe Size  Buyer Region  \\\n",
              "0        1097           220      9/24/16       11.0             4   \n",
              "1         685           220     11/23/16       11.0             4   \n",
              "2         690           220     11/23/16       11.0             4   \n",
              "3        1075           220     11/23/16       11.5            17   \n",
              "4         828           220      2/11/17       11.0            39   \n",
              "\n",
              "   Percent Change  Days Since Release  Original Release  Color  Month  Year  \n",
              "0      398.636364                1665                 0      5      9  2017  \n",
              "1      211.363636                1605                 0      8      9  2017  \n",
              "2      213.636364                1605                 0      9      9  2017  \n",
              "3      388.636364                1605                 0     10      9  2017  \n",
              "4      276.363636                1525                 0     11      9  2017  "
            ]
          },
          "metadata": {},
          "execution_count": 60
        }
      ],
      "source": [
        "# Parsing data times and creating month column\n",
        "df['Order Date'] = pd.to_datetime(df['Order Date'], infer_datetime_format=True)\n",
        "df['Month'] = pd.DatetimeIndex(df['Order Date']).month\n",
        "df['Year'] = pd.DatetimeIndex(df['Order Date']).year\n",
        "\n",
        "# Inspecting newly created df\n",
        "df.head()"
      ]
    },
    {
      "source": [
        "Now that we have preprocessed the data - our next task is to create the matrices:"
      ],
      "cell_type": "markdown",
      "metadata": {}
    },
    {
      "cell_type": "code",
      "execution_count": 12,
      "metadata": {},
      "outputs": [
        {
          "output_type": "stream",
          "name": "stdout",
          "text": [
            "(99956, 10)\n(99956,)\n"
          ]
        }
      ],
      "source": [
        "# Separating features and target output\n",
        "X = np.array(df[[\"Order Date\", \"Brand\", \"Retail Price\", \"Release Date\", \"Shoe Size\", \"Buyer Region\", \"Percent Change\", \"Days Since Release\", \"Original Release\", \"Color\"]])\n",
        "Y = np.array(df[\"Sale Price\"])\n",
        "\n",
        "# Checking shape of matrices\n",
        "print(X.shape)\n",
        "print(Y.shape)"
      ]
    },
    {
      "cell_type": "code",
      "execution_count": 13,
      "metadata": {},
      "outputs": [
        {
          "output_type": "stream",
          "name": "stdout",
          "text": [
            "[[1.0 '9/1/17' 0 ... 1665 0 5]\n [1.0 '9/1/17' 0 ... 1605 0 8]\n [1.0 '9/1/17' 0 ... 1605 0 9]\n ...\n [1.0 '2/13/19' 0 ... 842 0 49]\n [1.0 '2/13/19' 0 ... 842 0 49]\n [1.0 '2/13/19' 0 ... 842 0 49]]\n"
          ]
        }
      ],
      "source": [
        "# Number of training examples\n",
        "N = Y.shape[0]\n",
        "\n",
        "ones = np.ones((N, 1))\n",
        "X_1 = np.hstack((ones, X))\n",
        "\n",
        "print(X_1)"
      ]
    },
    {
      "source": [
        "## Data Visualization"
      ],
      "cell_type": "markdown",
      "metadata": {}
    },
    {
      "cell_type": "code",
      "execution_count": null,
      "metadata": {},
      "outputs": [],
      "source": []
    }
  ]
}