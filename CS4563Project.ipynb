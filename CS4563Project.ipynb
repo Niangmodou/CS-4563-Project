{
  "nbformat": 4,
  "nbformat_minor": 0,
  "metadata": {
    "colab": {
      "name": "CS4563Project.ipynb",
      "provenance": [],
      "toc_visible": true
    },
    "kernelspec": {
      "name": "python383jvsc74a57bd00adcc2737ebf6a4a119f135174df96668767fca1ef1112612db5ecadf2b6d608",
      "display_name": "Python 3.8.3 64-bit"
    },
    "language_info": {
      "name": "python",
      "version": "3.8.3-final"
    }
  },
  "cells": [
    {
      "cell_type": "code",
      "metadata": {
        "id": "Q--9i3VP2q_-"
      },
      "source": [
        "import pandas as pd\n",
        "import numpy as np\n",
        "from sklearn.preprocessing import LabelEncoder"
      ],
      "execution_count": 1,
      "outputs": []
    },
    {
      "cell_type": "markdown",
      "metadata": {
        "id": "e99rAJaM3e3j"
      },
      "source": [
        "## Reading the Data "
      ]
    },
    {
      "cell_type": "code",
      "metadata": {
        "colab": {
          "base_uri": "https://localhost:8080/",
          "height": 204
        },
        "id": "AB2-bymX3ki8",
        "outputId": "67cb2ea9-9994-4903-80a0-00b27be5a154"
      },
      "source": [
        "df = pd.read_csv('StockX-ML-Data.csv')\n",
        "\n",
        "df.head()"
      ],
      "execution_count": 2,
      "outputs": [
        {
          "output_type": "execute_result",
          "data": {
            "text/plain": [
              "  Order Date   Brand                                   Sneaker Name  \\\n",
              "0     9/1/17   Yeezy           Adidas-Yeezy-Boost-350-Low-V2-Beluga   \n",
              "1     9/1/17   Yeezy    Adidas-Yeezy-Boost-350-V2-Core-Black-Copper   \n",
              "2     9/1/17   Yeezy     Adidas-Yeezy-Boost-350-V2-Core-Black-Green   \n",
              "3     9/1/17   Yeezy       Adidas-Yeezy-Boost-350-V2-Core-Black-Red   \n",
              "4     9/1/17   Yeezy  Adidas-Yeezy-Boost-350-V2-Core-Black-Red-2017   \n",
              "\n",
              "   Sale Price  Retail Price Release Date  Shoe Size  Buyer Region  \\\n",
              "0        1097           220      9/24/16       11.0    California   \n",
              "1         685           220     11/23/16       11.0    California   \n",
              "2         690           220     11/23/16       11.0    California   \n",
              "3        1075           220     11/23/16       11.5      Kentucky   \n",
              "4         828           220      2/11/17       11.0  Rhode Island   \n",
              "\n",
              "   Percent Change  Days Since Release  Original Release  \n",
              "0      398.636364                1665                 0  \n",
              "1      211.363636                1605                 0  \n",
              "2      213.636364                1605                 0  \n",
              "3      388.636364                1605                 0  \n",
              "4      276.363636                1525                 0  "
            ],
            "text/html": "<div>\n<style scoped>\n    .dataframe tbody tr th:only-of-type {\n        vertical-align: middle;\n    }\n\n    .dataframe tbody tr th {\n        vertical-align: top;\n    }\n\n    .dataframe thead th {\n        text-align: right;\n    }\n</style>\n<table border=\"1\" class=\"dataframe\">\n  <thead>\n    <tr style=\"text-align: right;\">\n      <th></th>\n      <th>Order Date</th>\n      <th>Brand</th>\n      <th>Sneaker Name</th>\n      <th>Sale Price</th>\n      <th>Retail Price</th>\n      <th>Release Date</th>\n      <th>Shoe Size</th>\n      <th>Buyer Region</th>\n      <th>Percent Change</th>\n      <th>Days Since Release</th>\n      <th>Original Release</th>\n    </tr>\n  </thead>\n  <tbody>\n    <tr>\n      <th>0</th>\n      <td>9/1/17</td>\n      <td>Yeezy</td>\n      <td>Adidas-Yeezy-Boost-350-Low-V2-Beluga</td>\n      <td>1097</td>\n      <td>220</td>\n      <td>9/24/16</td>\n      <td>11.0</td>\n      <td>California</td>\n      <td>398.636364</td>\n      <td>1665</td>\n      <td>0</td>\n    </tr>\n    <tr>\n      <th>1</th>\n      <td>9/1/17</td>\n      <td>Yeezy</td>\n      <td>Adidas-Yeezy-Boost-350-V2-Core-Black-Copper</td>\n      <td>685</td>\n      <td>220</td>\n      <td>11/23/16</td>\n      <td>11.0</td>\n      <td>California</td>\n      <td>211.363636</td>\n      <td>1605</td>\n      <td>0</td>\n    </tr>\n    <tr>\n      <th>2</th>\n      <td>9/1/17</td>\n      <td>Yeezy</td>\n      <td>Adidas-Yeezy-Boost-350-V2-Core-Black-Green</td>\n      <td>690</td>\n      <td>220</td>\n      <td>11/23/16</td>\n      <td>11.0</td>\n      <td>California</td>\n      <td>213.636364</td>\n      <td>1605</td>\n      <td>0</td>\n    </tr>\n    <tr>\n      <th>3</th>\n      <td>9/1/17</td>\n      <td>Yeezy</td>\n      <td>Adidas-Yeezy-Boost-350-V2-Core-Black-Red</td>\n      <td>1075</td>\n      <td>220</td>\n      <td>11/23/16</td>\n      <td>11.5</td>\n      <td>Kentucky</td>\n      <td>388.636364</td>\n      <td>1605</td>\n      <td>0</td>\n    </tr>\n    <tr>\n      <th>4</th>\n      <td>9/1/17</td>\n      <td>Yeezy</td>\n      <td>Adidas-Yeezy-Boost-350-V2-Core-Black-Red-2017</td>\n      <td>828</td>\n      <td>220</td>\n      <td>2/11/17</td>\n      <td>11.0</td>\n      <td>Rhode Island</td>\n      <td>276.363636</td>\n      <td>1525</td>\n      <td>0</td>\n    </tr>\n  </tbody>\n</table>\n</div>"
          },
          "metadata": {},
          "execution_count": 2
        }
      ]
    },
    {
      "cell_type": "markdown",
      "metadata": {
        "id": "uTTs0mg53XSk"
      },
      "source": [
        "## Data Preprocessing"
      ]
    },
    {
      "cell_type": "code",
      "metadata": {
        "id": "uaNdidCD_zEQ"
      },
      "source": [
        "# Create a color bank to add color column\n",
        "color_bank = {'Black', 'Butter', 'Blue Tint', 'Zebra', 'Semi Frozen Yellow', 'University Blue', 'Total Orange', 'White', 'Chicago', 'Turtle Dove'}\n",
        "\n",
        "def retrieve_color(shoe_name):\n",
        "  ''' Function will extract the color from the shoe name'''\n",
        "  pass"
      ],
      "execution_count": 15,
      "outputs": []
    },
    {
      "cell_type": "code",
      "metadata": {
        "colab": {
          "base_uri": "https://localhost:8080/",
          "height": 204
        },
        "id": "UMfJgGZz3USe",
        "outputId": "42286c29-fc1c-4212-e9b2-9faa10003ad3"
      },
      "source": [
        "# Applying retrieve color function to get color for each row\n",
        "#df['Color'] = df.apply(retrieve_color, axis=1)\n",
        "\n",
        "# Label encoding the states to have values from 0 - 49\n",
        "# Instatniate LabelEncoder\n",
        "label_encoder = LabelEncoder()\n",
        "\n",
        "# LabelEncode Buyer Region column of df\n",
        "df['Buyer Region'] = label_encoder.fit_transform(df['Buyer Region'])\n",
        "df['Color'] = label_encoder.fit_transform(df['Sneaker Name'])\n",
        "\n",
        "# Inspecting encoded df\n",
        "df.head()"
      ],
      "execution_count": 3,
      "outputs": [
        {
          "output_type": "execute_result",
          "data": {
            "text/plain": [
              "  Order Date   Brand                                   Sneaker Name  \\\n",
              "0     9/1/17   Yeezy           Adidas-Yeezy-Boost-350-Low-V2-Beluga   \n",
              "1     9/1/17   Yeezy    Adidas-Yeezy-Boost-350-V2-Core-Black-Copper   \n",
              "2     9/1/17   Yeezy     Adidas-Yeezy-Boost-350-V2-Core-Black-Green   \n",
              "3     9/1/17   Yeezy       Adidas-Yeezy-Boost-350-V2-Core-Black-Red   \n",
              "4     9/1/17   Yeezy  Adidas-Yeezy-Boost-350-V2-Core-Black-Red-2017   \n",
              "\n",
              "   Sale Price  Retail Price Release Date  Shoe Size  Buyer Region  \\\n",
              "0        1097           220      9/24/16       11.0             4   \n",
              "1         685           220     11/23/16       11.0             4   \n",
              "2         690           220     11/23/16       11.0             4   \n",
              "3        1075           220     11/23/16       11.5            17   \n",
              "4         828           220      2/11/17       11.0            39   \n",
              "\n",
              "   Percent Change  Days Since Release  Original Release  Color  \n",
              "0      398.636364                1665                 0      5  \n",
              "1      211.363636                1605                 0      8  \n",
              "2      213.636364                1605                 0      9  \n",
              "3      388.636364                1605                 0     10  \n",
              "4      276.363636                1525                 0     11  "
            ],
            "text/html": "<div>\n<style scoped>\n    .dataframe tbody tr th:only-of-type {\n        vertical-align: middle;\n    }\n\n    .dataframe tbody tr th {\n        vertical-align: top;\n    }\n\n    .dataframe thead th {\n        text-align: right;\n    }\n</style>\n<table border=\"1\" class=\"dataframe\">\n  <thead>\n    <tr style=\"text-align: right;\">\n      <th></th>\n      <th>Order Date</th>\n      <th>Brand</th>\n      <th>Sneaker Name</th>\n      <th>Sale Price</th>\n      <th>Retail Price</th>\n      <th>Release Date</th>\n      <th>Shoe Size</th>\n      <th>Buyer Region</th>\n      <th>Percent Change</th>\n      <th>Days Since Release</th>\n      <th>Original Release</th>\n      <th>Color</th>\n    </tr>\n  </thead>\n  <tbody>\n    <tr>\n      <th>0</th>\n      <td>9/1/17</td>\n      <td>Yeezy</td>\n      <td>Adidas-Yeezy-Boost-350-Low-V2-Beluga</td>\n      <td>1097</td>\n      <td>220</td>\n      <td>9/24/16</td>\n      <td>11.0</td>\n      <td>4</td>\n      <td>398.636364</td>\n      <td>1665</td>\n      <td>0</td>\n      <td>5</td>\n    </tr>\n    <tr>\n      <th>1</th>\n      <td>9/1/17</td>\n      <td>Yeezy</td>\n      <td>Adidas-Yeezy-Boost-350-V2-Core-Black-Copper</td>\n      <td>685</td>\n      <td>220</td>\n      <td>11/23/16</td>\n      <td>11.0</td>\n      <td>4</td>\n      <td>211.363636</td>\n      <td>1605</td>\n      <td>0</td>\n      <td>8</td>\n    </tr>\n    <tr>\n      <th>2</th>\n      <td>9/1/17</td>\n      <td>Yeezy</td>\n      <td>Adidas-Yeezy-Boost-350-V2-Core-Black-Green</td>\n      <td>690</td>\n      <td>220</td>\n      <td>11/23/16</td>\n      <td>11.0</td>\n      <td>4</td>\n      <td>213.636364</td>\n      <td>1605</td>\n      <td>0</td>\n      <td>9</td>\n    </tr>\n    <tr>\n      <th>3</th>\n      <td>9/1/17</td>\n      <td>Yeezy</td>\n      <td>Adidas-Yeezy-Boost-350-V2-Core-Black-Red</td>\n      <td>1075</td>\n      <td>220</td>\n      <td>11/23/16</td>\n      <td>11.5</td>\n      <td>17</td>\n      <td>388.636364</td>\n      <td>1605</td>\n      <td>0</td>\n      <td>10</td>\n    </tr>\n    <tr>\n      <th>4</th>\n      <td>9/1/17</td>\n      <td>Yeezy</td>\n      <td>Adidas-Yeezy-Boost-350-V2-Core-Black-Red-2017</td>\n      <td>828</td>\n      <td>220</td>\n      <td>2/11/17</td>\n      <td>11.0</td>\n      <td>39</td>\n      <td>276.363636</td>\n      <td>1525</td>\n      <td>0</td>\n      <td>11</td>\n    </tr>\n  </tbody>\n</table>\n</div>"
          },
          "metadata": {},
          "execution_count": 3
        }
      ]
    },
    {
      "cell_type": "code",
      "metadata": {
        "id": "I-eSecnS4LAP"
      },
      "source": [],
      "execution_count": null,
      "outputs": []
    }
  ]
}