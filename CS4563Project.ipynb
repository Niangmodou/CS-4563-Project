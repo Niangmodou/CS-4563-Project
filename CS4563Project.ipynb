{
  "nbformat": 4,
  "nbformat_minor": 0,
  "metadata": {
    "colab": {
      "name": "CS4563Project.ipynb",
      "provenance": [],
      "toc_visible": true
    },
    "kernelspec": {
      "name": "python383jvsc74a57bd00adcc2737ebf6a4a119f135174df96668767fca1ef1112612db5ecadf2b6d608",
      "display_name": "Python 3.8.3 64-bit"
    },
    "language_info": {
      "name": "python",
      "version": "3.8.3"
    }
  },
  "cells": [
    {
      "cell_type": "code",
      "metadata": {
        "id": "Q--9i3VP2q_-"
      },
      "source": [
        "import pandas as pd\n",
        "import datetime\n",
        "import numpy as np\n",
        "import matplotlib.pyplot as plt\n",
        "from sklearn.preprocessing import LabelEncoder\n",
        "from sklearn.model_selection import train_test_split\n",
        "from sklearn.linear_model import Lasso\n",
        "from sklearn.linear_model import LogisticRegression\n",
        "from sklearn import svm"
      ],
      "execution_count": 32,
      "outputs": []
    },
    {
      "cell_type": "markdown",
      "metadata": {
        "id": "e99rAJaM3e3j"
      },
      "source": [
        "## Reading the Data "
      ]
    },
    {
      "cell_type": "code",
      "metadata": {
        "colab": {
          "base_uri": "https://localhost:8080/",
          "height": 204
        },
        "id": "AB2-bymX3ki8",
        "outputId": "67cb2ea9-9994-4903-80a0-00b27be5a154"
      },
      "source": [
        "df = pd.read_csv('StockX-ML-Data.csv', parse_dates=True)\n",
        "\n",
        "df.head()"
      ],
      "execution_count": 9,
      "outputs": [
        {
          "output_type": "execute_result",
          "data": {
            "text/plain": [
              "  Order Date   Brand                                   Sneaker Name  \\\n",
              "0     9/1/17   Yeezy           Adidas-Yeezy-Boost-350-Low-V2-Beluga   \n",
              "1     9/1/17   Yeezy    Adidas-Yeezy-Boost-350-V2-Core-Black-Copper   \n",
              "2     9/1/17   Yeezy     Adidas-Yeezy-Boost-350-V2-Core-Black-Green   \n",
              "3     9/1/17   Yeezy       Adidas-Yeezy-Boost-350-V2-Core-Black-Red   \n",
              "4     9/1/17   Yeezy  Adidas-Yeezy-Boost-350-V2-Core-Black-Red-2017   \n",
              "\n",
              "   Sale Price  Retail Price Release Date  Shoe Size  Buyer Region  \\\n",
              "0        1097           220      9/24/16       11.0    California   \n",
              "1         685           220     11/23/16       11.0    California   \n",
              "2         690           220     11/23/16       11.0    California   \n",
              "3        1075           220     11/23/16       11.5      Kentucky   \n",
              "4         828           220      2/11/17       11.0  Rhode Island   \n",
              "\n",
              "   Percent Change  Days Since Release  Original Release  \n",
              "0      398.636364                1665                 0  \n",
              "1      211.363636                1605                 0  \n",
              "2      213.636364                1605                 0  \n",
              "3      388.636364                1605                 0  \n",
              "4      276.363636                1525                 0  "
            ],
            "text/html": "<div>\n<style scoped>\n    .dataframe tbody tr th:only-of-type {\n        vertical-align: middle;\n    }\n\n    .dataframe tbody tr th {\n        vertical-align: top;\n    }\n\n    .dataframe thead th {\n        text-align: right;\n    }\n</style>\n<table border=\"1\" class=\"dataframe\">\n  <thead>\n    <tr style=\"text-align: right;\">\n      <th></th>\n      <th>Order Date</th>\n      <th>Brand</th>\n      <th>Sneaker Name</th>\n      <th>Sale Price</th>\n      <th>Retail Price</th>\n      <th>Release Date</th>\n      <th>Shoe Size</th>\n      <th>Buyer Region</th>\n      <th>Percent Change</th>\n      <th>Days Since Release</th>\n      <th>Original Release</th>\n    </tr>\n  </thead>\n  <tbody>\n    <tr>\n      <th>0</th>\n      <td>9/1/17</td>\n      <td>Yeezy</td>\n      <td>Adidas-Yeezy-Boost-350-Low-V2-Beluga</td>\n      <td>1097</td>\n      <td>220</td>\n      <td>9/24/16</td>\n      <td>11.0</td>\n      <td>California</td>\n      <td>398.636364</td>\n      <td>1665</td>\n      <td>0</td>\n    </tr>\n    <tr>\n      <th>1</th>\n      <td>9/1/17</td>\n      <td>Yeezy</td>\n      <td>Adidas-Yeezy-Boost-350-V2-Core-Black-Copper</td>\n      <td>685</td>\n      <td>220</td>\n      <td>11/23/16</td>\n      <td>11.0</td>\n      <td>California</td>\n      <td>211.363636</td>\n      <td>1605</td>\n      <td>0</td>\n    </tr>\n    <tr>\n      <th>2</th>\n      <td>9/1/17</td>\n      <td>Yeezy</td>\n      <td>Adidas-Yeezy-Boost-350-V2-Core-Black-Green</td>\n      <td>690</td>\n      <td>220</td>\n      <td>11/23/16</td>\n      <td>11.0</td>\n      <td>California</td>\n      <td>213.636364</td>\n      <td>1605</td>\n      <td>0</td>\n    </tr>\n    <tr>\n      <th>3</th>\n      <td>9/1/17</td>\n      <td>Yeezy</td>\n      <td>Adidas-Yeezy-Boost-350-V2-Core-Black-Red</td>\n      <td>1075</td>\n      <td>220</td>\n      <td>11/23/16</td>\n      <td>11.5</td>\n      <td>Kentucky</td>\n      <td>388.636364</td>\n      <td>1605</td>\n      <td>0</td>\n    </tr>\n    <tr>\n      <th>4</th>\n      <td>9/1/17</td>\n      <td>Yeezy</td>\n      <td>Adidas-Yeezy-Boost-350-V2-Core-Black-Red-2017</td>\n      <td>828</td>\n      <td>220</td>\n      <td>2/11/17</td>\n      <td>11.0</td>\n      <td>Rhode Island</td>\n      <td>276.363636</td>\n      <td>1525</td>\n      <td>0</td>\n    </tr>\n  </tbody>\n</table>\n</div>"
          },
          "metadata": {},
          "execution_count": 9
        }
      ]
    },
    {
      "cell_type": "markdown",
      "metadata": {
        "id": "uTTs0mg53XSk"
      },
      "source": [
        "## Data Preprocessing"
      ]
    },
    {
      "cell_type": "code",
      "metadata": {
        "colab": {
          "base_uri": "https://localhost:8080/",
          "height": 204
        },
        "id": "UMfJgGZz3USe",
        "outputId": "42286c29-fc1c-4212-e9b2-9faa10003ad3"
      },
      "source": [
        "# Label encoding the states to have values from 0 - 49\n",
        "# Instatniate LabelEncoder\n",
        "label_encoder = LabelEncoder()\n",
        "\n",
        "# LabelEncode\n",
        "df['Buyer Region'] = label_encoder.fit_transform(df['Buyer Region']) # CA, NY, etc.\n",
        "df['Color'] = label_encoder.fit_transform(df['Sneaker Name']) # Colorway\n",
        "df['Brand'] = label_encoder.fit_transform(df['Brand']) # Yeezy, Nike\n"
      ],
      "execution_count": 10,
      "outputs": []
    },
    {
      "cell_type": "code",
      "execution_count": 20,
      "metadata": {},
      "outputs": [],
      "source": [
        "# Parsing data times and creating month column\n",
        "df['Order Date'] = pd.to_datetime(df['Order Date'], infer_datetime_format=True)\n",
        "df['Month'] = pd.DatetimeIndex(df['Order Date']).month\n",
        "df['Year'] = pd.DatetimeIndex(df['Order Date']).year\n",
        "\n",
        "# Inspecting newly created \n",
        "# df.head()"
      ]
    },
    {
      "source": [
        "Now that we have preprocessed the data - our next task is to create the matrices:"
      ],
      "cell_type": "markdown",
      "metadata": {}
    },
    {
      "cell_type": "code",
      "execution_count": 21,
      "metadata": {},
      "outputs": [
        {
          "output_type": "stream",
          "name": "stdout",
          "text": [
            "[[Timestamp('2017-09-01 00:00:00') 0 220 ... 1665 0 5]\n [Timestamp('2017-09-01 00:00:00') 0 220 ... 1605 0 8]\n [Timestamp('2017-09-01 00:00:00') 0 220 ... 1605 0 9]\n ...\n [Timestamp('2019-02-13 00:00:00') 0 220 ... 842 0 49]\n [Timestamp('2019-02-13 00:00:00') 0 220 ... 842 0 49]\n [Timestamp('2019-02-13 00:00:00') 0 220 ... 842 0 49]]\n"
          ]
        }
      ],
      "source": [
        "# Separating features and target output\n",
        "X = np.array(df[[\"Order Date\", \"Brand\", \"Retail Price\", \"Release Date\", \"Shoe Size\", \"Buyer Region\", \"Percent Change\", \"Days Since Release\", \"Original Release\", \"Color\"]])\n",
        "Y = np.array(df[\"Sale Price\"])\n",
        "\n",
        "# Checking shape of matrices\n",
        "print(X)\n",
        "#print(Y.shape)"
      ]
    },
    {
      "cell_type": "code",
      "execution_count": 22,
      "metadata": {},
      "outputs": [
        {
          "output_type": "stream",
          "name": "stdout",
          "text": [
            "[[1.0 Timestamp('2017-09-01 00:00:00') 0 ... 1665 0 5]\n [1.0 Timestamp('2017-09-01 00:00:00') 0 ... 1605 0 8]\n [1.0 Timestamp('2017-09-01 00:00:00') 0 ... 1605 0 9]\n ...\n [1.0 Timestamp('2019-02-13 00:00:00') 0 ... 842 0 49]\n [1.0 Timestamp('2019-02-13 00:00:00') 0 ... 842 0 49]\n [1.0 Timestamp('2019-02-13 00:00:00') 0 ... 842 0 49]]\n"
          ]
        }
      ],
      "source": [
        "# Number of training examples\n",
        "N = Y.shape[0]\n",
        "\n",
        "ones = np.ones((N, 1))\n",
        "X_1 = np.hstack((ones, X))\n",
        "\n",
        "print(X_1)"
      ]
    },
    {
      "source": [
        "## Data Visualization"
      ],
      "cell_type": "markdown",
      "metadata": {}
    },
    {
      "source": [
        "## Linear Regression\n",
        "#### Given a shoe's information, can we predict its resale price?"
      ],
      "cell_type": "markdown",
      "metadata": {}
    },
    {
      "cell_type": "code",
      "execution_count": 23,
      "metadata": {},
      "outputs": [],
      "source": [
        "# Retrieving feature data and target variable\n",
        "X = df[['Brand', 'Sale Price', 'Retail Price', 'Shoe Size', 'Buyer Region', 'Percent Change', 'Days Since Release', 'Original Release', 'Color', 'Month', 'Year']]  \n",
        "\n",
        "y = df['Sale Price']\n",
        "\n",
        "# Splitting data into training and testing set\n",
        "X_train, X_test, y_train, y_test = train_test_split(X, y)"
      ]
    },
    {
      "source": [
        "## Linear Regression with Lasso Regularization"
      ],
      "cell_type": "markdown",
      "metadata": {}
    },
    {
      "cell_type": "code",
      "execution_count": 30,
      "metadata": {},
      "outputs": [],
      "source": [
        "acc_train_linreg = []\n",
        "acc_test_linreg = []\n",
        "c_linreg = []\n",
        "\n",
        "def linregression_model(c, X_train, y_train, X_test, y_test):\n",
        "    linear_regression = LinearRegression()\n",
        "    linear_regression.fit(X_train, y_train.ravel())\n",
        "    y_hat_train = linear_regression.predict(X_train)\n",
        "    acc_train = np.mean(y_train == y_hat_train)\n",
        "    acc_train_linreg.append(acc_train)\n",
        "    print(\"C = \", c)\n",
        "    print(\"Accuracy on training data: %f\" % acc_train)\n",
        "    y_hat_test = linear_regression.predict(X_test)\n",
        "    acc_test = np.mean(y_hat_test == y_test)\n",
        "    acc_test_linreg.append(acc_test)\n",
        "    print(\"Accuracy on testing data: %f\" % acc_test)\n",
        "    print()"
      ]
    },
    {
      "cell_type": "code",
      "execution_count": 31,
      "metadata": {},
      "outputs": [
        {
          "output_type": "stream",
          "name": "stdout",
          "text": [
            "C =  0.0001\nAccuracy on training data: 0.027479\nAccuracy on testing data: 0.028012\n\nC =  0.001\nAccuracy on training data: 0.027479\nAccuracy on testing data: 0.028012\n\nC =  0.01\nAccuracy on training data: 0.027479\nAccuracy on testing data: 0.028012\n\nC =  0.1\nAccuracy on training data: 0.027479\nAccuracy on testing data: 0.028012\n\nC =  1\nAccuracy on training data: 0.027479\nAccuracy on testing data: 0.028012\n\nC =  10\nAccuracy on training data: 0.027479\nAccuracy on testing data: 0.028012\n\n"
          ]
        }
      ],
      "source": [
        "c_vals = [0.0001, 0.001, 0.01, 0.1, 1, 10]\n",
        "\n",
        "for c in c_vals:\n",
        "    linregression_model(c, X_train, y_train, X_test, y_test)"
      ]
    },
    {
      "source": [
        "## Logistic Regression\n",
        "#### Given a shoe, can we predict if its resale price doubled in price (with respect to its original retail price)?\n"
      ],
      "cell_type": "markdown",
      "metadata": {}
    },
    {
      "cell_type": "code",
      "execution_count": 108,
      "metadata": {},
      "outputs": [],
      "source": [
        "# Retrieving feature data and target variable\n",
        "X = df[['Brand', 'Sale Price', 'Retail Price', 'Shoe Size', 'Buyer Region', 'Percent Change', 'Days Since Release', 'Original Release', 'Color', 'Month', 'Year']]  \n",
        "\n",
        "y = df['Sale Price']\n",
        "\n",
        "# Splitting data into training and testing set\n",
        "X_train, X_test, y_train, y_test = train_test_split(X, y)"
      ]
    },
    {
      "cell_type": "code",
      "execution_count": 109,
      "metadata": {},
      "outputs": [
        {
          "output_type": "stream",
          "name": "stderr",
          "text": [
            "/Users/modouniang/Library/Python/2.7/lib/python/site-packages/sklearn/linear_model/logistic.py:460: FutureWarning: Default multi_class will be changed to 'auto' in 0.22. Specify the multi_class option to silence this warning.\n  \"this warning.\", FutureWarning)\n"
          ]
        },
        {
          "output_type": "execute_result",
          "data": {
            "text/plain": [
              "LogisticRegression(C=1.0, class_weight=None, dual=False, fit_intercept=True,\n",
              "          intercept_scaling=1, max_iter=100, multi_class='warn',\n",
              "          n_jobs=None, penalty='l2', random_state=None, solver='warn',\n",
              "          tol=0.0001, verbose=0, warm_start=False)"
            ]
          },
          "metadata": {},
          "execution_count": 109
        }
      ],
      "source": [
        "# Instantiating a LogisticRegression instance\n",
        "logistic_regression = LogisticRegression()\n",
        "\n",
        "logistic_regression.fit( X_train, y_train )\n",
        "\n",
        "y_hat_train = logistic_regression.predict( X_train )\n",
        "\n",
        "print(y_hat_train)\n",
        "print('Hi')"
      ]
    },
    {
      "source": [
        "## Support Vector Machine"
      ],
      "cell_type": "markdown",
      "metadata": {}
    },
    {
      "cell_type": "code",
      "execution_count": null,
      "metadata": {},
      "outputs": [],
      "source": []
    }
  ]
}